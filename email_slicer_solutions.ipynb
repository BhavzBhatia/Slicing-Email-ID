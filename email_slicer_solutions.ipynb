{
 "cells": [
  {
   "cell_type": "code",
   "execution_count": 1,
   "id": "5f8b44f9",
   "metadata": {},
   "outputs": [],
   "source": [
    "\n",
    "\n",
    "# Q. \n",
    "#get user email address\n",
    "# Tell her username and company domain name\n",
    "\n"
   ]
  },
  {
   "cell_type": "code",
   "execution_count": 4,
   "id": "d40ed893",
   "metadata": {},
   "outputs": [],
   "source": [
    "email = \"abc@xyz.com\""
   ]
  },
  {
   "cell_type": "code",
   "execution_count": 6,
   "id": "3aa72938",
   "metadata": {},
   "outputs": [
    {
     "name": "stdout",
     "output_type": "stream",
     "text": [
      "abc\n"
     ]
    }
   ],
   "source": [
    "import re\n",
    "\n",
    "res = re.search(r\"\\w+[^@*]\" , email)\n",
    "\n",
    "print(res.group())"
   ]
  },
  {
   "cell_type": "code",
   "execution_count": 10,
   "id": "5056c65f",
   "metadata": {},
   "outputs": [
    {
     "name": "stdout",
     "output_type": "stream",
     "text": [
      "@xyz\n"
     ]
    }
   ],
   "source": [
    "res = re.search(r\"@\\w+[^.*]\" , email)\n",
    "\n",
    "print(res.group())"
   ]
  },
  {
   "cell_type": "code",
   "execution_count": 12,
   "id": "ee24a704",
   "metadata": {},
   "outputs": [
    {
     "name": "stdout",
     "output_type": "stream",
     "text": [
      ".com\n"
     ]
    }
   ],
   "source": [
    "res = re.search(r\".c\\w+\" , email)\n",
    "\n",
    "print(res.group())"
   ]
  },
  {
   "cell_type": "code",
   "execution_count": null,
   "id": "64bd2050",
   "metadata": {},
   "outputs": [],
   "source": []
  }
 ],
 "metadata": {
  "kernelspec": {
   "display_name": "Python 3 (ipykernel)",
   "language": "python",
   "name": "python3"
  },
  "language_info": {
   "codemirror_mode": {
    "name": "ipython",
    "version": 3
   },
   "file_extension": ".py",
   "mimetype": "text/x-python",
   "name": "python",
   "nbconvert_exporter": "python",
   "pygments_lexer": "ipython3",
   "version": "3.9.13"
  }
 },
 "nbformat": 4,
 "nbformat_minor": 5
}
